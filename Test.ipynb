{
 "cells": [
  {
   "cell_type": "code",
   "execution_count": null,
   "metadata": {},
   "outputs": [],
   "source": [
    "from google.colab import drive\n",
    "drive.mount('/content/drive')"
   ]
  },
  {
   "cell_type": "code",
   "execution_count": null,
   "metadata": {},
   "outputs": [],
   "source": [
    "import pandas as pd\n",
    "import matplotlib.pyplot as plt\n",
    "import seaborn as sns\n",
    "from sklearn.linear_model import LinearRegression\n",
    "from sklearn.ensemble import RandomForestRegressor\n",
    "from sklearn.cluster import KMeans\n",
    "from sklearn.preprocessing import StandardScaler\n",
    "from sklearn.decomposition import PCA"
   ]
  },
  {
   "cell_type": "code",
   "execution_count": null,
   "metadata": {},
   "outputs": [],
   "source": [
    "glanceData = pd.read_csv(\"/content/drive/MyDrive/Glance_Views.csv\")\n",
    "salesData = pd.read_csv(\"/content/drive/MyDrive/Sales_Data.csv\")\n",
    "mergedData = pd.merge(salesData, glanceData, on=['SKU_NAME', 'FEED_DATE'])"
   ]
  },
  {
   "cell_type": "code",
   "execution_count": null,
   "metadata": {},
   "outputs": [],
   "source": [
    "#Q1 - Identify the most expensive SKU, on average, over the entire time period.\n",
    "averagePrice = salesData.groupby('SKU_NAME')['ORDERED_REVENUE'].mean().sort_values(ascending=False)\n",
    "mostExp = averagePrice.idxmax()\n",
    "print(\"Most expensive SKU, on average, over the entire time period:\", mostExp)"
   ]
  },
  {
   "cell_type": "code",
   "execution_count": null,
   "metadata": {},
   "outputs": [],
   "source": [
    "#Q2 What % of SKUs have generated some revenue in this time period?\n",
    "revenuePer = (salesData['ORDERED_REVENUE'].gt(0).sum() / salesData['ORDERED_REVENUE'].count()) * 100\n",
    "print(\"Percentage of SKUs that have generated revenue in this time period:\", revenuePer)"
   ]
  },
  {
   "cell_type": "code",
   "execution_count": null,
   "metadata": {},
   "outputs": [],
   "source": [
    "# Q3 - Somewhere in this timeframe, there was a Sale Event. Identify the dates.\n",
    "\n",
    "#                                K-Means Clustering\n",
    "scaler = StandardScaler()\n",
    "scaledData = scaler.fit_transform(salesData[['ORDERED_REVENUE']])\n",
    "kmeans = KMeans(n_clusters=2, n_init=10, random_state=0).fit(scaledData)\n",
    "\n",
    "salesData['Cluster'] = kmeans.labels_\n",
    "\n",
    "sale_event_dates = salesData[salesData['Cluster'] == 1]['FEED_DATE']\n",
    "print(sale_event_dates)"
   ]
  },
  {
   "cell_type": "code",
   "execution_count": null,
   "metadata": {},
   "outputs": [],
   "source": [
    "#Q4 (Dependent on 3) Does having a sale event cannibalize sales in the immediate\n",
    "# aftermath? Highlighting a few examples would suffice (brownie points - determine a\n",
    "# statistical metric to prove/disprove this).\n",
    "plt.figure(figsize=(12, 6))\n",
    "sns.lineplot(data=salesData, x='FEED_DATE', y='ORDERED_REVENUE')\n",
    "plt.title(\"Ordered Revenue Over Time\")\n",
    "plt.xlabel(\"Date\")\n",
    "plt.ylabel(\"Ordered Revenue\")\n",
    "for sale_event_date in sale_event_dates:\n",
    "    plt.axvline(x=sale_event_date, color='r', linestyle='--')\n",
    "plt.show()"
   ]
  },
  {
   "cell_type": "code",
   "execution_count": null,
   "metadata": {},
   "outputs": [],
   "source": [
    "# Q5 In each category, find the subcategory that has grown slowest\n",
    "# relative to the category it is present in. If you were handling the entire\n",
    "# portfolio, which of these subcategories would you be most concerned\n",
    "# with?\n",
    "categoryGrowth = salesData.groupby(['CATEGORY', 'SUB_CATEGORY']).agg({'ORDERED_REVENUE': 'sum'}).groupby(level=0).apply(lambda x: x / float(x.sum())).reset_index()\n",
    "slowest_growing_subcategories = categoryGrowth.loc[categoryGrowth.groupby('CATEGORY')['ORDERED_REVENUE'].idxmin()]\n",
    "\n",
    "plt.figure(figsize=(12, 6))\n",
    "sns.barplot(data=slowest_growing_subcategories, x='CATEGORY', y='ORDERED_REVENUE', hue='SUB_CATEGORY')\n",
    "plt.title(\"Slowest-growing Subcategory in Each Category\")\n",
    "plt.xlabel(\"Category\")\n",
    "plt.ylabel(\"Relative Growth Rate\")\n",
    "plt.legend(title=\"Subcategory\", bbox_to_anchor=(1.05, 1), loc='upper left')\n",
    "plt.xticks(rotation=45)\n",
    "plt.show()"
   ]
  },
  {
   "cell_type": "code",
   "execution_count": null,
   "metadata": {},
   "outputs": [],
   "source": [
    "# Q6 Highlight any anomalies/mismatches in the data that you see, if any \n",
    "# (In terms of data quality issues)Highlight any anomalies/mismatches in the data that you see, if any.\n",
    "# (In terms of data quality issues)\n",
    "\n",
    "pca = PCA(n_components=2)\n",
    "pca = PCA(n_components=1)\n",
    "principalComponents = pca.fit_transform(salesData[['ORDERED_REVENUE']])\n",
    "principalDf = pd.DataFrame(data = principalComponents, columns = ['principal component 1'])\n",
    "plt.figure(figsize=(12, 6))\n",
    "sns.boxplot(data=principalDf)\n",
    "plt.title(\"Distribution of Ordered Revenue\")\n",
    "plt.xlabel(\"Ordered Revenue\")\n",
    "plt.show()"
   ]
  },
  {
   "cell_type": "code",
   "execution_count": null,
   "metadata": {},
   "outputs": [],
   "source": [
    "# Q7 For SKU Name C120[H:8NV, discuss whether Unit Conversion\n",
    "# (Units/Views) is affected by Average Selling Price. (brownie points -\n",
    "# determine a statistical technique to test this)\n",
    "plt.figure(figsize=(10, 8))\n",
    "sns.set_style(\"whitegrid\")\n",
    "sns.jointplot(data=mergedData, x='ORDERED_REVENUE', y='UNITS', kind='reg', scatter_kws={'alpha':0.5})\n",
    "plt.title(\"Average Selling Price vs. Unit Conversion Rate\", pad=100)\n",
    "plt.xlabel(\"Average Selling Price\")\n",
    "plt.ylabel(\"Unit Conversion Rate\")\n",
    "plt.show()"
   ]
  }
 ],
 "metadata": {
  "kernelspec": {
   "display_name": "Python 3",
   "language": "python",
   "name": "python3"
  },
  "language_info": {
   "codemirror_mode": {
    "name": "ipython",
    "version": 3
   },
   "file_extension": ".py",
   "mimetype": "text/x-python",
   "name": "python",
   "nbconvert_exporter": "python",
   "pygments_lexer": "ipython3",
   "version": "3.12.1"
  }
 },
 "nbformat": 4,
 "nbformat_minor": 2
}
