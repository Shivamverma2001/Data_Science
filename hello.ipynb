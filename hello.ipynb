{
 "cells": [
  {
   "cell_type": "code",
   "execution_count": 2,
   "metadata": {},
   "outputs": [
    {
     "name": "stdout",
     "output_type": "stream",
     "text": [
      "Hello\n"
     ]
    }
   ],
   "source": [
    "print(\"Hello\")"
   ]
  },
  {
   "cell_type": "markdown",
   "metadata": {},
   "source": [
    "for i in range(1,6):\n",
    "    for j in range(1,6):\n",
    "        print(j+\" \")\n",
    "    print(\"\\n\")"
   ]
  },
  {
   "cell_type": "code",
   "execution_count": 4,
   "metadata": {},
   "outputs": [
    {
     "name": "stdout",
     "output_type": "stream",
     "text": [
      "1 \n",
      "\n",
      "1 2 \n",
      "\n",
      "1 2 3 \n",
      "\n",
      "1 2 3 4 \n",
      "\n",
      "1 2 3 4 5 \n",
      "\n"
     ]
    }
   ],
   "source": [
    "for i in range(1,6):\n",
    "    for j in range(1,i+1):\n",
    "        print(j,end=\" \")\n",
    "    print(\"\\n\")"
   ]
  },
  {
   "cell_type": "code",
   "execution_count": 6,
   "metadata": {},
   "outputs": [
    {
     "name": "stdout",
     "output_type": "stream",
     "text": [
      "1 \n",
      "\n",
      "2 2 \n",
      "\n",
      "3 3 3 \n",
      "\n",
      "4 4 4 4 \n",
      "\n",
      "5 5 5 5 5 \n",
      "\n"
     ]
    }
   ],
   "source": [
    "for i in range(1,6):\n",
    "    for j in range(1,i+1):\n",
    "        print(i,end=\" \")\n",
    "    print(\"\\n\")"
   ]
  },
  {
   "cell_type": "code",
   "execution_count": 8,
   "metadata": {},
   "outputs": [
    {
     "name": "stdout",
     "output_type": "stream",
     "text": [
      "1 1 1 1 1 \n",
      "\n",
      "2 2 2 2 \n",
      "\n",
      "3 3 3 \n",
      "\n",
      "4 4 \n",
      "\n",
      "5 \n",
      "\n"
     ]
    }
   ],
   "source": [
    "for i in range(1,6):\n",
    "    for j in range(1,6-i+1):\n",
    "        print(i,end=\" \")\n",
    "    print(\"\\n\")"
   ]
  },
  {
   "cell_type": "code",
   "execution_count": 15,
   "metadata": {},
   "outputs": [
    {
     "name": "stdout",
     "output_type": "stream",
     "text": [
      "        * \n",
      "\n",
      "      * * \n",
      "\n",
      "    * * * \n",
      "\n",
      "  * * * * \n",
      "\n",
      "* * * * * \n",
      "\n"
     ]
    }
   ],
   "source": [
    "for i in range(1,6):\n",
    "    for j in range(5,i,-1):\n",
    "        print(\" \",end=\" \")\n",
    "    for j in range(i):\n",
    "        print(\"*\",end=\" \")\n",
    "    print(\"\\n\")"
   ]
  },
  {
   "cell_type": "code",
   "execution_count": 2,
   "metadata": {},
   "outputs": [
    {
     "name": "stdout",
     "output_type": "stream",
     "text": [
      "0 1 1 2 3 5 8 13 21 34 "
     ]
    }
   ],
   "source": [
    "# fibonacci series\n",
    "a=0\n",
    "b=1\n",
    "print(a,end=\" \")\n",
    "print(b,end=\" \")\n",
    "while b<30:\n",
    "    b=a+b\n",
    "    print(b,end=\" \")\n",
    "    a=b-a"
   ]
  },
  {
   "cell_type": "code",
   "execution_count": 11,
   "metadata": {},
   "outputs": [
    {
     "name": "stdout",
     "output_type": "stream",
     "text": [
      "96  not a prime number\n"
     ]
    }
   ],
   "source": [
    "# prime \n",
    "a=2\n",
    "n=96\n",
    "c=False\n",
    "while(a**2<=n):\n",
    "    if(n%a==0):\n",
    "        c=True\n",
    "    a+=1\n",
    "if(c):\n",
    "    print(n,\" not a prime number\")\n",
    "else:\n",
    "    print(n,\" is a prime number\")"
   ]
  },
  {
   "cell_type": "code",
   "execution_count": 17,
   "metadata": {},
   "outputs": [
    {
     "name": "stdout",
     "output_type": "stream",
     "text": [
      "True\n"
     ]
    }
   ],
   "source": [
    "# palindrom\n",
    "a=12321\n",
    "c=a\n",
    "b=0\n",
    "while(a>0):\n",
    "    b=b*10+a%10\n",
    "    a=a//10\n",
    "\n",
    "if(b==c):\n",
    "    print(True)\n",
    "else:\n",
    "    print(False)"
   ]
  },
  {
   "cell_type": "code",
   "execution_count": 21,
   "metadata": {},
   "outputs": [
    {
     "name": "stdout",
     "output_type": "stream",
     "text": [
      "['OOTD', 'YOLO', 'ASAP', 'BRB', 'GTG', 'OTW']\n",
      "OOTD YOLO ASAP BRB GTG OTW\n",
      "2\n"
     ]
    }
   ],
   "source": [
    "A=\"OOTD.YOLO.ASAP.BRB.GTG.OTW\"\n",
    "s=A.split(\".\")\n",
    "print(s)\n",
    "\n",
    "s=A.replace(\".\",\" \")\n",
    "print(s)\n",
    "\n",
    "c=s.count(\"OT\")\n",
    "print(c)"
   ]
  },
  {
   "cell_type": "code",
   "execution_count": 24,
   "metadata": {},
   "outputs": [
    {
     "name": "stdout",
     "output_type": "stream",
     "text": [
      "mavihS\n",
      "False\n",
      "True\n"
     ]
    }
   ],
   "source": [
    "a=input(\"Enter your name\")\n",
    "print(a[::-1])\n",
    "print(a.isdigit())\n",
    "print(a.istitle())"
   ]
  },
  {
   "cell_type": "code",
   "execution_count": 25,
   "metadata": {},
   "outputs": [
    {
     "name": "stdout",
     "output_type": "stream",
     "text": [
      "True\n"
     ]
    }
   ],
   "source": [
    "# palindrom\n",
    "a=\"abcba\"\n",
    "print(a==a[::-1])"
   ]
  },
  {
   "cell_type": "markdown",
   "metadata": {},
   "source": [
    "List \n",
    "mutable, collection of multiple data type"
   ]
  },
  {
   "cell_type": "code",
   "execution_count": 6,
   "metadata": {},
   "outputs": [
    {
     "name": "stdout",
     "output_type": "stream",
     "text": [
      "Joe\n",
      "Rachel\n",
      "Monica\n",
      "Ross\n",
      "After delete\n",
      "Joe\n",
      "Rachel\n",
      "10\n",
      "Ross\n"
     ]
    }
   ],
   "source": [
    "A=[\"Ross\",\"Rachel\",\"Monica\",\"Joe\"]\n",
    "b=A[0]\n",
    "A[0]=A[-1]\n",
    "A[-1]=b\n",
    "#A[0],A[-1]=A[-1],A[0]\n",
    "\n",
    "[print(i) for i in A]\n",
    "\n",
    "A.insert(2,10)\n",
    "A.pop(3)\n",
    "\n",
    "print(\"After delete\")\n",
    "for i in range(len(A)):\n",
    "    print(A[i])\n"
   ]
  },
  {
   "cell_type": "code",
   "execution_count": 19,
   "metadata": {},
   "outputs": [
    {
     "name": "stdout",
     "output_type": "stream",
     "text": [
      "10920\n",
      "13\n",
      "7\n"
     ]
    }
   ],
   "source": [
    "import sys\n",
    "B=[13,7,12,10]\n",
    "c=1\n",
    "for i in range(len(A)):\n",
    "    c*=B[i]\n",
    "\n",
    "print(c)\n",
    "\n",
    "c = -sys.maxsize - 1\n",
    "for i in range(len(B)):\n",
    "    if B[i]>c:\n",
    "        c=B[i]\n",
    "print(c)\n",
    "\n",
    "c=sys.maxsize\n",
    "for i in range(len(B)):\n",
    "    if B[i]<c:\n",
    "        c=B[i]\n",
    "print(c)"
   ]
  },
  {
   "cell_type": "markdown",
   "metadata": {},
   "source": [
    "Tuple \n",
    "collection of ordered, un-mutable data,() not compulsory\n",
    "\n",
    "A=\"ABC\" or (\"ABC\")   it is a string\n",
    "\n",
    "A=(\"ABC\",)     it is a tuple\n",
    "\n",
    "for doing operations we convert tuple into list to convert it into mutable data type"
   ]
  },
  {
   "cell_type": "code",
   "execution_count": 20,
   "metadata": {},
   "outputs": [
    {
     "name": "stdout",
     "output_type": "stream",
     "text": [
      "('Shiv', 'Krishna', 'Vishnu', 'Hanuman')\n"
     ]
    }
   ],
   "source": [
    "A=(\"Shiv\",\"Krishna\",\"Vishnu\")\n",
    "A=list(A)\n",
    "A.append(\"Hanuman\")\n",
    "A=tuple(A)\n",
    "print(A)"
   ]
  },
  {
   "cell_type": "markdown",
   "metadata": {},
   "source": [
    "Dictionary\n",
    "Write data in the form of key value pair"
   ]
  },
  {
   "cell_type": "code",
   "execution_count": 22,
   "metadata": {},
   "outputs": [
    {
     "name": "stdout",
     "output_type": "stream",
     "text": [
      "22\n",
      "Name : Shivam\n",
      "Age : 22\n",
      "City : Delhi\n",
      "Shivam\n",
      "22\n",
      "Delhi\n",
      "Name : Shivam\n",
      "Age : 22\n",
      "City : Delhi\n",
      "Name : Shivam\n",
      "Age : 22\n",
      "City : Delhi\n"
     ]
    }
   ],
   "source": [
    "Employee={\"Name\":\"Shivam\",\"Age\":22, \"City\":\"Delhi\"}\n",
    "print(Employee[\"Age\"])\n",
    "\n",
    "for i in Employee:\n",
    "    print(i, \":\", Employee[i])\n",
    "\n",
    "for i in Employee.values():\n",
    "    print(i)\n",
    "\n",
    "for i in Employee.keys():\n",
    "    print(i,\":\",Employee[i])\n",
    "\n",
    "for i,j in Employee.items():\n",
    "    print(i,\":\",j)"
   ]
  },
  {
   "cell_type": "code",
   "execution_count": 28,
   "metadata": {},
   "outputs": [
    {
     "name": "stdout",
     "output_type": "stream",
     "text": [
      "[1, 2, 12]\n",
      "['a', 'b', 'c']\n"
     ]
    }
   ],
   "source": [
    "A={\"c\":12,\"b\":2,\"a\":1}\n",
    "print(sorted(A.values()))\n",
    "print(sorted(A.keys()))"
   ]
  },
  {
   "cell_type": "code",
   "execution_count": 27,
   "metadata": {},
   "outputs": [
    {
     "name": "stdout",
     "output_type": "stream",
     "text": [
      "{1: 1, 2: 4, 3: 9, 4: 16, 5: 25, 6: 36, 7: 49, 8: 64, 9: 81, 10: 100, 11: 121, 12: 144}\n"
     ]
    }
   ],
   "source": [
    "A={}\n",
    "for i in range(1,13):\n",
    "    A[i]=i**2\n",
    "\n",
    "print(A)"
   ]
  },
  {
   "cell_type": "code",
   "execution_count": 29,
   "metadata": {},
   "outputs": [
    {
     "name": "stdout",
     "output_type": "stream",
     "text": [
      "24\n"
     ]
    }
   ],
   "source": [
    "#product of all values\n",
    "A={\"c\":12,\"b\":2,\"a\":1}\n",
    "mul=1\n",
    "for i in A:\n",
    "    mul*=A[i]\n",
    "\n",
    "print(mul)"
   ]
  },
  {
   "cell_type": "markdown",
   "metadata": {},
   "source": [
    "Set \n",
    "un-ordered, unique, mutable"
   ]
  },
  {
   "cell_type": "code",
   "execution_count": 30,
   "metadata": {},
   "outputs": [
    {
     "name": "stdout",
     "output_type": "stream",
     "text": [
      "{1, 2, 3, 4, 5}\n"
     ]
    }
   ],
   "source": [
    "a={1,2,3,4,5}\n",
    "print(a)"
   ]
  },
  {
   "cell_type": "code",
   "execution_count": 33,
   "metadata": {},
   "outputs": [
    {
     "name": "stdout",
     "output_type": "stream",
     "text": [
      "{2, 3}\n"
     ]
    }
   ],
   "source": [
    "#find common in between 3 list\n",
    "A=[1,2,3,4,5]\n",
    "B=[7,6,3,2]\n",
    "C=[3,2,9,8]\n",
    "\n",
    "print(set(A) & set(B) & set(C))\n",
    "A.remove(5)"
   ]
  }
 ],
 "metadata": {
  "kernelspec": {
   "display_name": "Python 3",
   "language": "python",
   "name": "python3"
  },
  "language_info": {
   "codemirror_mode": {
    "name": "ipython",
    "version": 3
   },
   "file_extension": ".py",
   "mimetype": "text/x-python",
   "name": "python",
   "nbconvert_exporter": "python",
   "pygments_lexer": "ipython3",
   "version": "3.12.1"
  }
 },
 "nbformat": 4,
 "nbformat_minor": 2
}
